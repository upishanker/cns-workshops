{
 "cells": [
  {
   "cell_type": "markdown",
   "id": "e869a8e3",
   "metadata": {},
   "source": [
    "# 4. Dimensionality Reduction & PCA\n",
    "\n",
    "This notebook introduces dimensionality reduction using Principal Component Analysis (PCA).\n",
    "\n",
    "## What is Dimensionality Reduction?\n",
    "\n",
    "**Dimensionality reduction** means reducing features while keeping important information.\n",
    "\n",
    "**Why?**\n",
    "- Prevent overfitting (fewer features)\n",
    "- Faster computation\n",
    "- Remove noise\n",
    "- Enable visualization\n",
    "\n",
    "**Key insight**: Many datasets have redundant (correlated) features. We can capture most information with fewer dimensions.\n",
    "\n",
    "## Setup"
   ]
  },
  {
   "cell_type": "code",
   "execution_count": 6,
   "id": "b363c492",
   "metadata": {},
   "outputs": [],
   "source": [
    "import numpy as np\n",
    "import pandas as pd\n",
    "import matplotlib.pyplot as plt\n",
    "import seaborn as sns\n",
    "\n",
    "from sklearn.linear_model import LinearRegression, Ridge\n",
    "from sklearn.preprocessing import scale\n",
    "from sklearn.model_selection import cross_val_score, validation_curve, learning_curve\n",
    "from sklearn.decomposition import PCA\n",
    "\n",
    "# Set random seed for reproducibility\n",
    "np.random.seed(42)"
   ]
  },
  {
   "cell_type": "markdown",
   "id": "54d87a21",
   "metadata": {},
   "source": [
    "## Load Data"
   ]
  },
  {
   "cell_type": "code",
   "execution_count": 7,
   "id": "7b2bcfe4",
   "metadata": {},
   "outputs": [
    {
     "name": "stdout",
     "output_type": "stream",
     "text": [
      "Dataset shape: (1004, 1446)\n",
      "Number of subjects: 1004\n",
      "Number of brain features: 1440\n"
     ]
    },
    {
     "data": {
      "text/html": [
       "<div>\n",
       "<style scoped>\n",
       "    .dataframe tbody tr th:only-of-type {\n",
       "        vertical-align: middle;\n",
       "    }\n",
       "\n",
       "    .dataframe tbody tr th {\n",
       "        vertical-align: top;\n",
       "    }\n",
       "\n",
       "    .dataframe thead th {\n",
       "        text-align: right;\n",
       "    }\n",
       "</style>\n",
       "<table border=\"1\" class=\"dataframe\">\n",
       "  <thead>\n",
       "    <tr style=\"text-align: right;\">\n",
       "      <th></th>\n",
       "      <th>fsArea_L_V1_ROI</th>\n",
       "      <th>fsArea_L_MST_ROI</th>\n",
       "      <th>fsArea_L_V6_ROI</th>\n",
       "      <th>fsArea_L_V2_ROI</th>\n",
       "      <th>fsArea_L_V3_ROI</th>\n",
       "      <th>fsArea_L_V4_ROI</th>\n",
       "      <th>fsArea_L_V8_ROI</th>\n",
       "      <th>fsArea_L_4_ROI</th>\n",
       "      <th>fsArea_L_3b_ROI</th>\n",
       "      <th>fsArea_L_FEF_ROI</th>\n",
       "      <th>...</th>\n",
       "      <th>fsCT_R_p47r_ROI</th>\n",
       "      <th>fsCT_R_TGv_ROI</th>\n",
       "      <th>fsCT_R_MBelt_ROI</th>\n",
       "      <th>fsCT_R_LBelt_ROI</th>\n",
       "      <th>fsCT_R_A4_ROI</th>\n",
       "      <th>fsCT_R_STSva_ROI</th>\n",
       "      <th>fsCT_R_TE1m_ROI</th>\n",
       "      <th>fsCT_R_PI_ROI</th>\n",
       "      <th>fsCT_R_a32pr_ROI</th>\n",
       "      <th>fsCT_R_p24_ROI</th>\n",
       "    </tr>\n",
       "  </thead>\n",
       "  <tbody>\n",
       "    <tr>\n",
       "      <th>0</th>\n",
       "      <td>2750.0</td>\n",
       "      <td>306.0</td>\n",
       "      <td>354.0</td>\n",
       "      <td>2123.0</td>\n",
       "      <td>1451.0</td>\n",
       "      <td>1128.0</td>\n",
       "      <td>269.0</td>\n",
       "      <td>1751.0</td>\n",
       "      <td>1338.0</td>\n",
       "      <td>632.0</td>\n",
       "      <td>...</td>\n",
       "      <td>3.362</td>\n",
       "      <td>2.827</td>\n",
       "      <td>2.777</td>\n",
       "      <td>2.526</td>\n",
       "      <td>3.202</td>\n",
       "      <td>3.024</td>\n",
       "      <td>3.354</td>\n",
       "      <td>2.629</td>\n",
       "      <td>2.699</td>\n",
       "      <td>3.179</td>\n",
       "    </tr>\n",
       "    <tr>\n",
       "      <th>1</th>\n",
       "      <td>2836.0</td>\n",
       "      <td>186.0</td>\n",
       "      <td>354.0</td>\n",
       "      <td>2261.0</td>\n",
       "      <td>1584.0</td>\n",
       "      <td>1241.0</td>\n",
       "      <td>259.0</td>\n",
       "      <td>1521.0</td>\n",
       "      <td>1105.0</td>\n",
       "      <td>302.0</td>\n",
       "      <td>...</td>\n",
       "      <td>2.809</td>\n",
       "      <td>3.539</td>\n",
       "      <td>2.944</td>\n",
       "      <td>2.769</td>\n",
       "      <td>3.530</td>\n",
       "      <td>3.079</td>\n",
       "      <td>3.282</td>\n",
       "      <td>2.670</td>\n",
       "      <td>2.746</td>\n",
       "      <td>3.324</td>\n",
       "    </tr>\n",
       "    <tr>\n",
       "      <th>2</th>\n",
       "      <td>3394.0</td>\n",
       "      <td>223.0</td>\n",
       "      <td>373.0</td>\n",
       "      <td>2827.0</td>\n",
       "      <td>1816.0</td>\n",
       "      <td>1299.0</td>\n",
       "      <td>221.0</td>\n",
       "      <td>1657.0</td>\n",
       "      <td>1374.0</td>\n",
       "      <td>456.0</td>\n",
       "      <td>...</td>\n",
       "      <td>2.435</td>\n",
       "      <td>3.321</td>\n",
       "      <td>2.799</td>\n",
       "      <td>2.388</td>\n",
       "      <td>3.148</td>\n",
       "      <td>3.125</td>\n",
       "      <td>3.116</td>\n",
       "      <td>2.891</td>\n",
       "      <td>2.940</td>\n",
       "      <td>3.232</td>\n",
       "    </tr>\n",
       "    <tr>\n",
       "      <th>3</th>\n",
       "      <td>3382.0</td>\n",
       "      <td>266.0</td>\n",
       "      <td>422.0</td>\n",
       "      <td>2686.0</td>\n",
       "      <td>1893.0</td>\n",
       "      <td>1359.0</td>\n",
       "      <td>234.0</td>\n",
       "      <td>1889.0</td>\n",
       "      <td>1545.0</td>\n",
       "      <td>407.0</td>\n",
       "      <td>...</td>\n",
       "      <td>3.349</td>\n",
       "      <td>3.344</td>\n",
       "      <td>2.694</td>\n",
       "      <td>3.030</td>\n",
       "      <td>3.258</td>\n",
       "      <td>2.774</td>\n",
       "      <td>3.383</td>\n",
       "      <td>2.696</td>\n",
       "      <td>3.014</td>\n",
       "      <td>3.264</td>\n",
       "    </tr>\n",
       "    <tr>\n",
       "      <th>4</th>\n",
       "      <td>3080.0</td>\n",
       "      <td>161.0</td>\n",
       "      <td>346.0</td>\n",
       "      <td>2105.0</td>\n",
       "      <td>1307.0</td>\n",
       "      <td>1004.0</td>\n",
       "      <td>254.0</td>\n",
       "      <td>1334.0</td>\n",
       "      <td>985.0</td>\n",
       "      <td>315.0</td>\n",
       "      <td>...</td>\n",
       "      <td>2.428</td>\n",
       "      <td>2.940</td>\n",
       "      <td>2.809</td>\n",
       "      <td>2.607</td>\n",
       "      <td>3.430</td>\n",
       "      <td>2.752</td>\n",
       "      <td>2.645</td>\n",
       "      <td>3.111</td>\n",
       "      <td>3.219</td>\n",
       "      <td>4.128</td>\n",
       "    </tr>\n",
       "  </tbody>\n",
       "</table>\n",
       "<p>5 rows × 1440 columns</p>\n",
       "</div>"
      ],
      "text/plain": [
       "   fsArea_L_V1_ROI  fsArea_L_MST_ROI  fsArea_L_V6_ROI  fsArea_L_V2_ROI  \\\n",
       "0           2750.0             306.0            354.0           2123.0   \n",
       "1           2836.0             186.0            354.0           2261.0   \n",
       "2           3394.0             223.0            373.0           2827.0   \n",
       "3           3382.0             266.0            422.0           2686.0   \n",
       "4           3080.0             161.0            346.0           2105.0   \n",
       "\n",
       "   fsArea_L_V3_ROI  fsArea_L_V4_ROI  fsArea_L_V8_ROI  fsArea_L_4_ROI  \\\n",
       "0           1451.0           1128.0            269.0          1751.0   \n",
       "1           1584.0           1241.0            259.0          1521.0   \n",
       "2           1816.0           1299.0            221.0          1657.0   \n",
       "3           1893.0           1359.0            234.0          1889.0   \n",
       "4           1307.0           1004.0            254.0          1334.0   \n",
       "\n",
       "   fsArea_L_3b_ROI  fsArea_L_FEF_ROI  ...  fsCT_R_p47r_ROI  fsCT_R_TGv_ROI  \\\n",
       "0           1338.0             632.0  ...            3.362           2.827   \n",
       "1           1105.0             302.0  ...            2.809           3.539   \n",
       "2           1374.0             456.0  ...            2.435           3.321   \n",
       "3           1545.0             407.0  ...            3.349           3.344   \n",
       "4            985.0             315.0  ...            2.428           2.940   \n",
       "\n",
       "   fsCT_R_MBelt_ROI  fsCT_R_LBelt_ROI  fsCT_R_A4_ROI  fsCT_R_STSva_ROI  \\\n",
       "0             2.777             2.526          3.202             3.024   \n",
       "1             2.944             2.769          3.530             3.079   \n",
       "2             2.799             2.388          3.148             3.125   \n",
       "3             2.694             3.030          3.258             2.774   \n",
       "4             2.809             2.607          3.430             2.752   \n",
       "\n",
       "   fsCT_R_TE1m_ROI  fsCT_R_PI_ROI  fsCT_R_a32pr_ROI  fsCT_R_p24_ROI  \n",
       "0            3.354          2.629             2.699           3.179  \n",
       "1            3.282          2.670             2.746           3.324  \n",
       "2            3.116          2.891             2.940           3.232  \n",
       "3            3.383          2.696             3.014           3.264  \n",
       "4            2.645          3.111             3.219           4.128  \n",
       "\n",
       "[5 rows x 1440 columns]"
      ]
     },
     "execution_count": 7,
     "metadata": {},
     "output_type": "execute_result"
    }
   ],
   "source": [
    "# Load data\n",
    "data = pd.read_csv('./data/abide2.tsv', sep='\\t')\n",
    "\n",
    "print(f\"Dataset shape: {data.shape}\")\n",
    "print(f\"Number of subjects: {data.shape[0]}\")\n",
    "\n",
    "# Extract all brain features (columns starting with 'fs')\n",
    "X_all = data.filter(like='fs')\n",
    "print(f\"Number of brain features: {X_all.shape[1]}\")\n",
    "\n",
    "# Our target variable: age\n",
    "y = data['age'].values\n",
    "\n",
    "# Display first few rows\n",
    "X_all.head()"
   ]
  },
  {
   "cell_type": "markdown",
   "id": "1d459fe9",
   "metadata": {},
   "source": [
    "## Feature Redundancy\n",
    "\n",
    "Many features in our dataset are **correlated**—they share information. Let's see an example:"
   ]
  },
  {
   "cell_type": "code",
   "execution_count": 8,
   "id": "cbb00f33",
   "metadata": {},
   "outputs": [
    {
     "name": "stdout",
     "output_type": "stream",
     "text": [
      "Feature names:\n",
      "['fsArea_L_V1_ROI', 'fsArea_L_MST_ROI', 'fsArea_L_V6_ROI', 'fsArea_L_V2_ROI', 'fsArea_L_V3_ROI']\n",
      "\n",
      "Correlation matrix:\n",
      "                  fsArea_L_V1_ROI  fsArea_L_MST_ROI  fsArea_L_V6_ROI  \\\n",
      "fsArea_L_V1_ROI              1.00              0.21             0.57   \n",
      "fsArea_L_MST_ROI             0.21              1.00             0.19   \n",
      "fsArea_L_V6_ROI              0.57              0.19             1.00   \n",
      "fsArea_L_V2_ROI              0.87              0.25             0.64   \n",
      "fsArea_L_V3_ROI              0.73              0.26             0.58   \n",
      "\n",
      "                  fsArea_L_V2_ROI  fsArea_L_V3_ROI  \n",
      "fsArea_L_V1_ROI              0.87             0.73  \n",
      "fsArea_L_MST_ROI             0.25             0.26  \n",
      "fsArea_L_V6_ROI              0.64             0.58  \n",
      "fsArea_L_V2_ROI              1.00             0.89  \n",
      "fsArea_L_V3_ROI              0.89             1.00  \n"
     ]
    }
   ],
   "source": [
    "# Look at first 5 features\n",
    "X_sample = X_all.iloc[:, :5]\n",
    "\n",
    "print(\"Feature names:\")\n",
    "print(X_sample.columns.tolist())\n",
    "print(\"\\nCorrelation matrix:\")\n",
    "correlation_matrix = X_sample.corr()\n",
    "print(correlation_matrix.round(2))"
   ]
  },
  {
   "cell_type": "markdown",
   "id": "1a2ad9a3",
   "metadata": {},
   "source": [
    "Notice the high correlations (0.73-0.89)! These brain regions grow/shrink together—they carry **redundant information**. We might represent them with fewer dimensions."
   ]
  },
  {
   "cell_type": "markdown",
   "id": "a4813b57",
   "metadata": {},
   "source": [
    "## Principal Component Analysis (PCA)\n",
    "\n",
    "**PCA** creates new features by combining original features:\n",
    "1. Finds directions of maximum variance\n",
    "2. Creates new features (\"components\") along these directions\n",
    "3. Orders components by variance explained\n",
    "\n",
    "**Key properties:**\n",
    "- Components are orthogonal (perpendicular)\n",
    "- First component captures most variance\n",
    "- Components are linear combinations of original features\n",
    "\n",
    "**Analogy**: Photographing a pencil from the side captures more information (length) than from the end (just a circle). PCA finds the \"best camera angles\" for your data!"
   ]
  },
  {
   "cell_type": "markdown",
   "id": "21f5f048",
   "metadata": {},
   "source": [
    "## PCA on Full Dataset"
   ]
  },
  {
   "cell_type": "code",
   "execution_count": 9,
   "id": "469db5a6",
   "metadata": {},
   "outputs": [
    {
     "name": "stdout",
     "output_type": "stream",
     "text": [
      "✓ PCA completed!\n",
      "Number of components: 1004\n",
      "\n",
      "Variance explained by first 5 components:\n",
      "  PC1: 25.43%\n",
      "  PC2: 10.12%\n",
      "  PC3: 2.18%\n",
      "  PC4: 1.54%\n",
      "  PC5: 1.36%\n"
     ]
    }
   ],
   "source": [
    "# Apply PCA to all features\n",
    "X_all_scaled = scale(X_all)\n",
    "\n",
    "pca_full = PCA()\n",
    "pca_full.fit(X_all_scaled)\n",
    "\n",
    "print(f\"✓ PCA completed!\")\n",
    "print(f\"Number of components: {pca_full.n_components_}\")\n",
    "print(f\"\\nVariance explained by first 5 components:\")\n",
    "for i in range(5):\n",
    "    print(f\"  PC{i+1}: {pca_full.explained_variance_ratio_[i]:.2%}\")"
   ]
  },
  {
   "cell_type": "markdown",
   "id": "e6b52e58",
   "metadata": {},
   "source": [
    "The first component explains over 25% of variance! Brain features are highly structured."
   ]
  },
  {
   "cell_type": "code",
   "execution_count": 10,
   "id": "343b2f5a",
   "metadata": {},
   "outputs": [
    {
     "data": {
      "image/png": "[encoded data removed]",
      "text/plain": [
       "<Figure size 720x360 with 1 Axes>"
      ]
     },
     "metadata": {
      "needs_background": "light"
     },
     "output_type": "display_data"
    },
    {
     "name": "stdout",
     "output_type": "stream",
     "text": [
      "• 125 components capture 80% variance\n",
      "• That's 1315 fewer features! (91% reduction)\n"
     ]
    }
   ],
   "source": [
    "# Plot cumulative variance\n",
    "cumsum = np.cumsum(pca_full.explained_variance_ratio_)\n",
    "\n",
    "plt.figure(figsize=(10, 5))\n",
    "plt.plot(range(1, len(cumsum)+1), cumsum, linewidth=2, color='darkgreen')\n",
    "plt.xlabel('Number of Components', fontsize=12)\n",
    "plt.ylabel('Cumulative Variance Explained', fontsize=12)\n",
    "plt.title('How Many Components Do We Need?', fontsize=14)\n",
    "plt.grid(True, alpha=0.3)\n",
    "\n",
    "# Add reference lines\n",
    "plt.axhline(0.8, color='red', linestyle='--', alpha=0.7, label='80%')\n",
    "plt.axhline(0.95, color='purple', linestyle='--', alpha=0.7, label='95%')\n",
    "plt.legend()\n",
    "\n",
    "# Annotate 80% point\n",
    "n_80 = np.argmax(cumsum >= 0.8) + 1\n",
    "plt.plot(n_80, 0.8, 'ro', markersize=10)\n",
    "plt.text(n_80+20, 0.78, f'{n_80} components\\nexplain 80%', \n",
    "         fontsize=10, bbox=dict(boxstyle='round', facecolor='wheat'))\n",
    "\n",
    "plt.tight_layout()\n",
    "plt.show()\n",
    "\n",
    "print(f\"• {n_80} components capture 80% variance\")\n",
    "print(f\"• That's {1440-n_80} fewer features! ({(1-(n_80/1440))*100:.0f}% reduction)\")"
   ]
  },
  {
   "cell_type": "markdown",
   "id": "567e4c56",
   "metadata": {},
   "source": [
    "## Finding Optimal Number of Components\n",
    "\n",
    "**Best approach**: Use validation curves to find the number that gives best prediction performance!"
   ]
  },
  {
   "cell_type": "code",
   "execution_count": 11,
   "id": "d13709fb",
   "metadata": {},
   "outputs": [
    {
     "name": "stdout",
     "output_type": "stream",
     "text": [
      "Testing different numbers of PCA components...\n",
      "Testing: 10 to 490 components\n",
      "This will take 1-2 minutes...\n",
      "\n",
      "✓ Validation curve computed!\n",
      "\n",
      "Optimal number of components: 110\n",
      "Best cross-validated R²: 0.673\n",
      "✓ Validation curve computed!\n",
      "\n",
      "Optimal number of components: 110\n",
      "Best cross-validated R²: 0.673\n"
     ]
    }
   ],
   "source": [
    "# Create pipeline: PCA -> Ridge regression\n",
    "pipeline_pca = Pipeline([\n",
    "    ('pca', PCA()),\n",
    "    ('ridge', Ridge(alpha=100))\n",
    "])\n",
    "\n",
    "# Test different numbers of components\n",
    "n_components_range = np.arange(10, 510, 20).astype(int)\n",
    "\n",
    "print(\"Testing different numbers of PCA components...\")\n",
    "print(f\"Testing: {n_components_range[0]} to {n_components_range[-1]} components\")\n",
    "print(\"This will take 1-2 minutes...\\n\")\n",
    "\n",
    "# Compute validation curve\n",
    "train_scores, test_scores = validation_curve(\n",
    "    pipeline_pca, X_all_scaled, y,\n",
    "    param_name='pca__n_components',\n",
    "    param_range=n_components_range,\n",
    "    cv=5,\n",
    "    scoring='r2'\n",
    ")\n",
    "\n",
    "# Calculate means\n",
    "train_mean = train_scores.mean(axis=1)\n",
    "test_mean = test_scores.mean(axis=1)\n",
    "\n",
    "print(\"✓ Validation curve computed!\\n\")\n",
    "\n",
    "# Find optimal number of components\n",
    "best_idx = test_mean.argmax()\n",
    "best_n = n_components_range[best_idx]\n",
    "best_score = test_mean[best_idx]\n",
    "\n",
    "print(f\"Optimal number of components: {best_n}\")\n",
    "print(f\"Best cross-validated R²: {best_score:.3f}\")"
   ]
  },
  {
   "cell_type": "code",
   "execution_count": 14,
   "id": "9b8cc96f",
   "metadata": {},
   "outputs": [
    {
     "data": {
      "image/png": "[encoded data removed]",
      "text/plain": [
       "<Figure size 864x432 with 1 Axes>"
      ]
     },
     "metadata": {
      "needs_background": "light"
     },
     "output_type": "display_data"
    }
   ],
   "source": [
    "# Plot validation curve\n",
    "plt.figure(figsize=(12, 6))\n",
    "\n",
    "plt.plot(n_components_range, train_mean, 'o-', label='Training', \n",
    "         linewidth=2, markersize=6, color='blue', alpha=0.7)\n",
    "plt.plot(n_components_range, test_mean, 'o-', label='Test (Cross-Validation)', \n",
    "         linewidth=2, markersize=6, color='red', alpha=0.7)\n",
    "\n",
    "# Highlight optimal point\n",
    "plt.axvline(best_n, color='green', linestyle='--', linewidth=2, alpha=0.7)\n",
    "plt.plot(best_n, best_score, 'g*', markersize=20, label=f'Optimal: {best_n} components')\n",
    "\n",
    "# Add shaded region for good performance\n",
    "good_start = n_components_range[np.argmax(test_mean > 0.5)]\n",
    "good_end = n_components_range[np.argmax(test_mean > best_score * 0.95)]\n",
    "plt.axvspan(good_start, good_end, alpha=0.1, color='green', \n",
    "            label=f'Good range: ~{good_start}-{good_end} components')\n",
    "\n",
    "plt.xlabel('Number of PCA Components', fontsize=13)\n",
    "plt.ylabel('R² Score', fontsize=13)\n",
    "plt.title('Validation Curve: Finding Optimal Number of Components\\nPCA + Ridge Regression for Age Prediction', \n",
    "          fontsize=14, fontweight='bold')\n",
    "plt.legend(fontsize=11, loc='lower right')\n",
    "plt.grid(True, alpha=0.3)\n",
    "plt.ylim(0, 1)\n",
    "\n",
    "# Add annotation box\n",
    "textstr = f'Peak Performance:\\n• Components: {best_n}\\n• Test R²: {best_score:.3f}\\n• Train R²: {train_mean[best_idx]:.3f}'\n",
    "plt.text(0.02, 0.98, textstr, transform=plt.gca().transAxes, \n",
    "         fontsize=11, verticalalignment='top',\n",
    "         bbox=dict(boxstyle='round', facecolor='wheat', alpha=0.8))\n",
    "\n",
    "plt.tight_layout()\n",
    "plt.show()"
   ]
  },
  {
   "cell_type": "markdown",
   "id": "ff49de2e",
   "metadata": {},
   "source": [
    "**Key insight**: First 30-50 components capture most predictive information. That's a 97% reduction from 1,440 features!"
   ]
  },
  {
   "cell_type": "markdown",
   "id": "28850b2f",
   "metadata": {},
   "source": [
    "## Summary\n",
    "\n",
    "**Key Takeaways:**\n",
    "\n",
    "1. **Dimensionality Reduction**: Reduce features while preserving information\n",
    "   - Prevents overfitting\n",
    "   - Improves computational efficiency\n",
    "   - Increases signal-to-noise ratio\n",
    "\n",
    "2. **PCA**: Creates new features by combining originals\n",
    "   - Finds directions of maximum variance\n",
    "   - First components capture most information\n",
    "   - Components are linear combinations of features\n",
    "\n",
    "3. **Practical Benefits**:\n",
    "   - 110 PCA components can replace 1,440 features\n",
    "   - 95%+ reduction with minimal information loss\n",
    "   - Works especially well with correlated features\n",
    "\n",
    "4. **Best Practices**:\n",
    "   - Always standardize features first\n",
    "   - Use validation curves to choose number of components\n",
    "   - Consider interpretability trade-off"
   ]
  }
 ],
 "metadata": {
  "kernelspec": {
   "display_name": "Python 3",
   "language": "python",
   "name": "python3"
  },
  "language_info": {
   "codemirror_mode": {
    "name": "ipython",
    "version": 3
   },
   "file_extension": ".py",
   "mimetype": "text/x-python",
   "name": "python",
   "nbconvert_exporter": "python",
   "pygments_lexer": "ipython3",
   "version": "3.8.20"
  }
 },
 "nbformat": 4,
 "nbformat_minor": 5
}
