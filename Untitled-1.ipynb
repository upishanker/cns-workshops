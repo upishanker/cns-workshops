{
 "cells": [
  {
   "cell_type": "markdown",
   "metadata": {},
   "source": [
    "### What is Machine Learning?\n",
    "**Machine learning** is commonly grouped together with artificial intelligence, however they are two slightly different fields with different definitions. ***Machine learning*** is a field where the goal is to get a machine or computer that can *learn* to come to conclusions based on experience, without explicitely being programmed to do so.\n",
    "\n",
    "### What is Artificial Intelligence?\n",
    "The field of ***Artificial Intelligence*** is a field/discipline where the goal is to make systems that can think (or can appear to think) for themselves, resembling the intelligence of humans, hence the name.\n"
   ]
  },
  {
   "cell_type": "markdown",
   "metadata": {},
   "source": [
    "### Before we dive in, let's import some packages that we'll need in our run through this tutorial"
   ]
  },
  {
   "cell_type": "code",
   "execution_count": 2,
   "metadata": {},
   "outputs": [],
   "source": [
    "# The workhorse numerical computing package in Python\n",
    "import numpy as np\n",
    "\n",
    "# pandas is a powerful data manipulation library. We'll use it to load and\n",
    "# manipulate data from the Human Connectome Project (HCP).\n",
    "import pandas as pd\n",
    "\n",
    "# matplotlib is Python's main plotting library.\n",
    "import matplotlib.pyplot as plt\n",
    "\n",
    "# Seaborn is a high-level plotting library. It's built on top of matplotlib and\n",
    "# provides a high-level interface for drawing attractive and informative\n",
    "# statistical graphics.\n",
    "import seaborn as sns\n",
    "\n",
    "# scikit-learn is a powerful Python library for machine learning.\n",
    "import sklearn as skl\n"
   ]
  },
  {
   "cell_type": "markdown",
   "metadata": {},
   "source": [
    "If there's a squiggly line underneath the package names, or if it says \"ModuleNotFoundError\": \\\n",
    "Open the terminal (in VS Code its at the top, next to help) and run this command: \\\n",
    "`pip install numpy pandas scikit-learn matplotlib seaborn`"
   ]
  },
  {
   "cell_type": "markdown",
   "metadata": {},
   "source": [
    "### Different types of machine learning\n",
    "In machine learning, there is supervised learning, and unsupervised learning.\n",
    "\n",
    "- **Supervised Learning:**\n",
    "\n"
   ]
  },
  {
   "cell_type": "markdown",
   "metadata": {},
   "source": [
    "### Supervised vs Unsupervised Learning\n",
    "\n",
    "Supervised learning is 'supervised' in the sense that we know the true labels/outcomes of the input data we are using to make a prediction. Or atleast we are able to find out the true labels and then further improve the accuracy of our model.\n",
    "\n",
    "##### For example:\n",
    "-Predicting if a person has heart problems based on input health data such as weight, age, height\n",
    "\\\n",
    "-Predicting if an incoming call is spam based on user reports or call activity\n",
    "\\\n",
    "-Detecting the presence of an active seizure in a patient based on EEG signal\n",
    "\\\n",
    "-Predicting the age of a participant based on brain structure\n",
    "\n"
   ]
  },
  {
   "cell_type": "markdown",
   "metadata": {},
   "source": [
    "### Supervised learning can be divided into classification vs regression"
   ]
  },
  {
   "cell_type": "code",
   "execution_count": null,
   "metadata": {},
   "outputs": [],
   "source": []
  }
 ],
 "metadata": {
  "kernelspec": {
   "display_name": "spring2025class",
   "language": "python",
   "name": "python3"
  },
  "language_info": {
   "codemirror_mode": {
    "name": "ipython",
    "version": 3
   },
   "file_extension": ".py",
   "mimetype": "text/x-python",
   "name": "python",
   "nbconvert_exporter": "python",
   "pygments_lexer": "ipython3",
   "version": "3.13.2"
  }
 },
 "nbformat": 4,
 "nbformat_minor": 2
}
